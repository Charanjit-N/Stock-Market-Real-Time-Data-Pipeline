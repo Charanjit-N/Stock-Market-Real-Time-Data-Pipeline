{
 "cells": [
  {
   "cell_type": "code",
   "execution_count": null,
   "id": "695ed039-35a9-4489-a6a4-32f7e1d0d4af",
   "metadata": {},
   "outputs": [],
   "source": [
    "pip install kafka-python"
   ]
  },
  {
   "cell_type": "code",
   "execution_count": null,
   "id": "e3da83cb-bd52-487c-b04e-f50ecd7a6b97",
   "metadata": {},
   "outputs": [],
   "source": [
    "import pandas as pd\n",
    "from kafka import KafkaProducer\n",
    "from time import sleep\n",
    "from json import dumps\n",
    "import json"
   ]
  },
  {
   "cell_type": "code",
   "execution_count": null,
   "id": "ab617c7a-9aac-4b0b-bb83-23eaf8ed87f5",
   "metadata": {},
   "outputs": [],
   "source": [
    "producer = KafkaProducer(bootstrap_servers=['13.233.118.156:9092'], \n",
    "                         value_serializer=lambda x: \n",
    "                         dumps(x).encode('utf-8'))"
   ]
  },
  {
   "cell_type": "code",
   "execution_count": null,
   "id": "533ac1c9-4333-42e8-a94a-3db6681631e0",
   "metadata": {},
   "outputs": [],
   "source": [
    "# producer.send('project_topic', value=\"{'hi':'there'}\")"
   ]
  },
  {
   "cell_type": "code",
   "execution_count": null,
   "id": "0b605b0e-9780-45ef-a3da-5102c1eddaf2",
   "metadata": {},
   "outputs": [],
   "source": [
    "df = pd.read_csv(\"stockdata.csv\")"
   ]
  },
  {
   "cell_type": "code",
   "execution_count": null,
   "id": "ee5d3d18-4476-422d-a598-0ad48938a515",
   "metadata": {},
   "outputs": [],
   "source": [
    "df.head()"
   ]
  },
  {
   "cell_type": "code",
   "execution_count": null,
   "id": "e396a23d-41fb-4092-a622-cf1a34df9fb1",
   "metadata": {},
   "outputs": [],
   "source": [
    "while True:\n",
    "    data = df.sample(1).to_dict(orient=\"records\")[0]\n",
    "    producer.send('project_topic', value=data)"
   ]
  },
  {
   "cell_type": "code",
   "execution_count": null,
   "id": "b59c5fcc-acaa-42ca-a450-a6bd1377bb4f",
   "metadata": {},
   "outputs": [],
   "source": [
    "producer.flush() "
   ]
  }
 ],
 "metadata": {
  "kernelspec": {
   "display_name": "Python 3 (ipykernel)",
   "language": "python",
   "name": "python3"
  },
  "language_info": {
   "codemirror_mode": {
    "name": "ipython",
    "version": 3
   },
   "file_extension": ".py",
   "mimetype": "text/x-python",
   "name": "python",
   "nbconvert_exporter": "python",
   "pygments_lexer": "ipython3",
   "version": "3.10.4"
  }
 },
 "nbformat": 4,
 "nbformat_minor": 5
}
