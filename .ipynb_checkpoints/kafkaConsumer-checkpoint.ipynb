{
 "cells": [
  {
   "cell_type": "code",
   "execution_count": null,
   "id": "1ed8f013-f40c-417b-ad34-2d359c72145e",
   "metadata": {},
   "outputs": [],
   "source": [
    "pip install s3fs"
   ]
  },
  {
   "cell_type": "code",
   "execution_count": null,
   "id": "68eb973c-977e-4266-8340-38e7980d5011",
   "metadata": {},
   "outputs": [],
   "source": [
    "from kafka import KafkaConsumer\n",
    "from time import sleep\n",
    "from json import dumps,loads\n",
    "import json\n",
    "from s3fs import S3FileSystem"
   ]
  },
  {
   "cell_type": "code",
   "execution_count": null,
   "id": "16fa568d-3b00-4676-858d-b00ee70753a9",
   "metadata": {},
   "outputs": [],
   "source": [
    "consumer = KafkaConsumer(\n",
    "    'project_topic',\n",
    "     bootstrap_servers=['13.233.118.156:9092'], \n",
    "    value_deserializer=lambda x: loads(x.decode('utf-8')))"
   ]
  },
  {
   "cell_type": "code",
   "execution_count": null,
   "id": "8351044c-82b3-4b1e-bf11-975b2e23a92f",
   "metadata": {},
   "outputs": [],
   "source": [
    "# for c in consumer:\n",
    "#     print(c.value)"
   ]
  },
  {
   "cell_type": "code",
   "execution_count": null,
   "id": "95fd69c9-f613-4348-95b3-b576f3365514",
   "metadata": {},
   "outputs": [],
   "source": [
    "s3 = S3FileSystem()"
   ]
  },
  {
   "cell_type": "code",
   "execution_count": null,
   "id": "d4e71aa5-5d71-4cdd-a9e9-f872e7a9f9e9",
   "metadata": {},
   "outputs": [],
   "source": [
    "# for count, c in enumerate(consumer):\n",
    "#     print(count)\n",
    "#     print (c.value)"
   ]
  },
  {
   "cell_type": "code",
   "execution_count": null,
   "id": "4b9cd8c9-66ce-40d2-a3cd-42ec42360a61",
   "metadata": {},
   "outputs": [],
   "source": [
    "for count, c in enumerate(consumer):\n",
    "    with s3.open(\"s3://kafka-stockmarket-project-charanjit/stock_data_{}.json\".format(count), 'w') as file:\n",
    "        json.dump(c.value, file)    \n"
   ]
  }
 ],
 "metadata": {
  "kernelspec": {
   "display_name": "Python 3 (ipykernel)",
   "language": "python",
   "name": "python3"
  },
  "language_info": {
   "codemirror_mode": {
    "name": "ipython",
    "version": 3
   },
   "file_extension": ".py",
   "mimetype": "text/x-python",
   "name": "python",
   "nbconvert_exporter": "python",
   "pygments_lexer": "ipython3",
   "version": "3.10.4"
  }
 },
 "nbformat": 4,
 "nbformat_minor": 5
}
